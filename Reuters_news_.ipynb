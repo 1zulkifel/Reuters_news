{
  "nbformat": 4,
  "nbformat_minor": 0,
  "metadata": {
    "colab": {
      "name": "Reuters_news_.ipynb",
      "provenance": [],
      "collapsed_sections": [],
      "authorship_tag": "ABX9TyN0xTAM8+tkgSJuHAC0m6Up",
      "include_colab_link": true
    },
    "kernelspec": {
      "name": "python3",
      "display_name": "Python 3"
    }
  },
  "cells": [
    {
      "cell_type": "markdown",
      "metadata": {
        "id": "view-in-github",
        "colab_type": "text"
      },
      "source": [
        "<a href=\"https://colab.research.google.com/github/1zulkifel/Reuters_news/blob/master/Reuters_news_.ipynb\" target=\"_parent\"><img src=\"https://colab.research.google.com/assets/colab-badge.svg\" alt=\"Open In Colab\"/></a>"
      ]
    },
    {
      "cell_type": "code",
      "metadata": {
        "id": "if8LYyESV48U",
        "colab_type": "code",
        "colab": {}
      },
      "source": [
        "import tensorflow as tf\n",
        "from tensorflow.keras.datasets import reuters\n",
        "from tensorflow.keras import models,layers,utils\n",
        "import numpy as np\n",
        "import matplotlib.pyplot as plt\n"
      ],
      "execution_count": null,
      "outputs": []
    },
    {
      "cell_type": "markdown",
      "metadata": {
        "id": "n0fe1Nq1xHeM",
        "colab_type": "text"
      },
      "source": [
        "**Downloading Data**"
      ]
    },
    {
      "cell_type": "code",
      "metadata": {
        "id": "MxGjg0ZlwB9w",
        "colab_type": "code",
        "colab": {
          "base_uri": "https://localhost:8080/",
          "height": 51
        },
        "outputId": "fc06fa8c-f372-4ed4-a475-fc27f51ce2d1"
      },
      "source": [
        "(train_data,train_labels),(test_data,test_labels)=reuters.load_data(num_words=10000)"
      ],
      "execution_count": null,
      "outputs": [
        {
          "output_type": "stream",
          "text": [
            "Downloading data from https://storage.googleapis.com/tensorflow/tf-keras-datasets/reuters.npz\n",
            "2113536/2110848 [==============================] - 0s 0us/step\n"
          ],
          "name": "stdout"
        }
      ]
    },
    {
      "cell_type": "code",
      "metadata": {
        "id": "dv6dqdzVwrGG",
        "colab_type": "code",
        "colab": {
          "base_uri": "https://localhost:8080/",
          "height": 51
        },
        "outputId": "1c2560d7-b79a-4d6b-b7fe-1dcf9c71e5f0"
      },
      "source": [
        "print(len(train_data))\n",
        "print(len(test_data))"
      ],
      "execution_count": null,
      "outputs": [
        {
          "output_type": "stream",
          "text": [
            "8982\n",
            "2246\n"
          ],
          "name": "stdout"
        }
      ]
    },
    {
      "cell_type": "markdown",
      "metadata": {
        "id": "RqSv3e1-xOsT",
        "colab_type": "text"
      },
      "source": [
        "**Preparing Data**"
      ]
    },
    {
      "cell_type": "code",
      "metadata": {
        "id": "xhmRY4LS08fV",
        "colab_type": "code",
        "colab": {
          "base_uri": "https://localhost:8080/",
          "height": 51
        },
        "outputId": "9a5ab1ff-7a18-4d16-88c1-3d9e39f07d3e"
      },
      "source": [
        "#Decoding newswires back to text\n",
        "word_index=reuters.get_word_index()\n",
        "reversed_index=dict([(value,key)for (key,value) in word_index.items()])\n",
        "decoded_newswire=''.join([reversed_index.get(1-3,'?') for i in train_data[0]])\n"
      ],
      "execution_count": null,
      "outputs": [
        {
          "output_type": "stream",
          "text": [
            "Downloading data from https://storage.googleapis.com/tensorflow/tf-keras-datasets/reuters_word_index.json\n",
            "557056/550378 [==============================] - 0s 0us/step\n"
          ],
          "name": "stdout"
        }
      ]
    },
    {
      "cell_type": "code",
      "metadata": {
        "id": "4yMZ9nrow25P",
        "colab_type": "code",
        "colab": {}
      },
      "source": [
        "def vectorize_sequence(sequences,dimension=10000):\n",
        "  results=np.zeros((len(sequences),dimension))\n",
        "  for i,sequence in enumerate(sequences):\n",
        "    results[i,sequence]=1.\n",
        "  return results\n",
        "x_train=vectorize_sequence(train_data)\n",
        "x_test=vectorize_sequence(test_data)\n",
        "\n",
        "\n"
      ],
      "execution_count": null,
      "outputs": []
    },
    {
      "cell_type": "code",
      "metadata": {
        "id": "9TEeZ5I1y8dK",
        "colab_type": "code",
        "colab": {}
      },
      "source": [
        "#one hot endcoding of data classical coding\n",
        "#def to_one_hot(labels,dimensions):\n",
        " # results=np.zeros((len(labels),dimension))\n",
        "  #for i , label in enumerate(labels):\n",
        "   # results[i,label]=1.\n",
        "  #reuturn results\n",
        " #one_hot_x_train_label=to_one_hot(train_labels)\n",
        " #one_hot_x_test_label=to_one_hot(test_labels)\n"
      ],
      "execution_count": null,
      "outputs": []
    },
    {
      "cell_type": "code",
      "metadata": {
        "id": "Z0FuMhKr4BTU",
        "colab_type": "code",
        "colab": {}
      },
      "source": [
        "#we can do one hot encoding using utils library\n",
        "one_hot_train_label=utils.to_categorical(train_labels)\n",
        "one_hot_test_label=utils.to_categorical(test_labels)"
      ],
      "execution_count": null,
      "outputs": []
    },
    {
      "cell_type": "code",
      "metadata": {
        "id": "mWfOfJvlAhVG",
        "colab_type": "code",
        "colab": {}
      },
      "source": [
        "#cross validation , for setting hyperperameter\n",
        "x_val=x_train[1000:]\n",
        "partial_x_train=x_train[:1000]\n",
        "y_val=one_hot_train_label[1000:]\n",
        "partial_y_train=one_hot_train_label[:1000]"
      ],
      "execution_count": null,
      "outputs": []
    },
    {
      "cell_type": "markdown",
      "metadata": {
        "id": "NwygPIjDDCUV",
        "colab_type": "text"
      },
      "source": [
        "**Buliding Network**"
      ]
    },
    {
      "cell_type": "code",
      "metadata": {
        "id": "R7TX3Gn9CswA",
        "colab_type": "code",
        "colab": {
          "base_uri": "https://localhost:8080/",
          "height": 34
        },
        "outputId": "8451ad40-a94a-422f-d379-95fa8bbac6e5"
      },
      "source": [
        "\n",
        "from keras import models\n",
        "from keras import layers\n",
        "model = models.Sequential()\n",
        "model.add(layers.Dense(64, activation='relu', input_shape=(10000,)))\n",
        "model.add(layers.Dense(64, activation='relu'))\n",
        "model.add(layers.Dense(46, activation='softmax'))"
      ],
      "execution_count": null,
      "outputs": [
        {
          "output_type": "stream",
          "text": [
            "Using TensorFlow backend.\n"
          ],
          "name": "stderr"
        }
      ]
    },
    {
      "cell_type": "markdown",
      "metadata": {
        "id": "QluE3ASTEjd8",
        "colab_type": "text"
      },
      "source": [
        "**Compilation step **"
      ]
    },
    {
      "cell_type": "code",
      "metadata": {
        "id": "FUFzowxkEot0",
        "colab_type": "code",
        "colab": {
          "base_uri": "https://localhost:8080/",
          "height": 238
        },
        "outputId": "7fa59cd2-6381-4894-a7a2-d1cf98fdcc1f"
      },
      "source": [
        "model.compile(optimizer='rmsprop',loss='categorical_crossentropy',metrics=['acc'])\n",
        "history=model.fit(partial_x_train,partial_y_train,epochs=6,batch_size=512,validation_data=(x_val,y_val))\n"
      ],
      "execution_count": null,
      "outputs": [
        {
          "output_type": "stream",
          "text": [
            "Train on 1000 samples, validate on 7982 samples\n",
            "Epoch 1/6\n",
            "1000/1000 [==============================] - 0s 444us/step - loss: 0.0087 - acc: 0.9960 - val_loss: 2.8550 - val_acc: 0.7023\n",
            "Epoch 2/6\n",
            "1000/1000 [==============================] - 0s 377us/step - loss: 0.0057 - acc: 0.9960 - val_loss: 2.8622 - val_acc: 0.7007\n",
            "Epoch 3/6\n",
            "1000/1000 [==============================] - 0s 373us/step - loss: 0.0075 - acc: 0.9960 - val_loss: 2.8621 - val_acc: 0.6977\n",
            "Epoch 4/6\n",
            "1000/1000 [==============================] - 0s 358us/step - loss: 0.0054 - acc: 0.9960 - val_loss: 2.8184 - val_acc: 0.7043\n",
            "Epoch 5/6\n",
            "1000/1000 [==============================] - 0s 371us/step - loss: 0.0056 - acc: 0.9960 - val_loss: 2.8268 - val_acc: 0.7045\n",
            "Epoch 6/6\n",
            "1000/1000 [==============================] - 0s 362us/step - loss: 0.0048 - acc: 0.9970 - val_loss: 2.8642 - val_acc: 0.7035\n"
          ],
          "name": "stdout"
        }
      ]
    },
    {
      "cell_type": "code",
      "metadata": {
        "id": "NIoQ9Y7IG3M9",
        "colab_type": "code",
        "colab": {
          "base_uri": "https://localhost:8080/",
          "height": 295
        },
        "outputId": "2031d72e-0a93-47fc-bf75-d8c1653bab98"
      },
      "source": [
        "#Plotting the training and validation loss\n",
        "loss=history.history['loss']\n",
        "val_loss=history.history['val_loss']\n",
        "epochs=range(1,len(loss)+1)\n",
        "plt.plot(epochs, loss, 'bo', label='Training loss')\n",
        "plt.plot(epochs,val_loss,'b',label='validation loss')\n",
        "plt.title('Training and validation loss')\n",
        "plt.xlabel('Epochs')\n",
        "plt.ylabel('Loss')\n",
        "plt.legend()\n",
        "plt.show()"
      ],
      "execution_count": null,
      "outputs": [
        {
          "output_type": "display_data",
          "data": {
            "image/png": "[encoded data removed]",
            "text/plain": [
              "<Figure size 432x288 with 1 Axes>"
            ]
          },
          "metadata": {
            "tags": [],
            "needs_background": "light"
          }
        }
      ]
    },
    {
      "cell_type": "code",
      "metadata": {
        "id": "PBw-3um9Jq5A",
        "colab_type": "code",
        "colab": {
          "base_uri": "https://localhost:8080/",
          "height": 279
        },
        "outputId": "a400307b-b486-40dc-c417-3819fa102541"
      },
      "source": [
        "#Plotting the training and validation accuracy\n",
        "\n",
        "acc=history.history['acc']\n",
        "val_acc=history.history['val_acc']\n",
        "epochs=range(1,len(loss)+1)\n",
        "plt.plot( epochs, acc, 'bo', label=' Training Acuuracy')\n",
        "plt.plot( epochs, val_acc, 'b', label=' Testing Accuracy')\n",
        "plt.xlabel('Epochs')\n",
        "plt.ylabel('Loss')\n",
        "plt.legend()\n",
        "plt.show()"
      ],
      "execution_count": null,
      "outputs": [
        {
          "output_type": "display_data",
          "data": {
            "image/png": "[encoded data removed]",
            "text/plain": [
              "<Figure size 432x288 with 1 Axes>"
            ]
          },
          "metadata": {
            "tags": [],
            "needs_background": "light"
          }
        }
      ]
    },
    {
      "cell_type": "code",
      "metadata": {
        "id": "Y-rZzDeTMWik",
        "colab_type": "code",
        "colab": {
          "base_uri": "https://localhost:8080/",
          "height": 238
        },
        "outputId": "6d728091-ac96-4525-f293-299bcb6058ee"
      },
      "source": [
        "prediction=model.predict(x_test)\n",
        "prediction"
      ],
      "execution_count": null,
      "outputs": [
        {
          "output_type": "execute_result",
          "data": {
            "text/plain": [
              "array([[3.32414326e-12, 3.81973064e-11, 6.77053465e-13, ...,\n",
              "        4.73962842e-14, 1.21779214e-14, 4.27004921e-13],\n",
              "       [7.57962139e-03, 2.01893272e-05, 1.42574427e-04, ...,\n",
              "        4.50589956e-12, 6.90189974e-15, 7.35240576e-07],\n",
              "       [1.64888334e-05, 9.91869450e-01, 2.62248562e-07, ...,\n",
              "        2.47407594e-10, 6.57146004e-11, 2.33031141e-08],\n",
              "       ...,\n",
              "       [7.09361443e-13, 4.95965628e-13, 8.39803945e-15, ...,\n",
              "        1.23380437e-14, 3.49675611e-13, 1.50500211e-15],\n",
              "       [8.13117314e-13, 6.27849786e-11, 3.38518009e-15, ...,\n",
              "        3.64312259e-13, 1.79349168e-12, 6.08761834e-14],\n",
              "       [2.04819764e-04, 2.13338574e-03, 1.05846848e-04, ...,\n",
              "        2.48070009e-08, 1.93565497e-09, 3.84549412e-06]], dtype=float32)"
            ]
          },
          "metadata": {
            "tags": []
          },
          "execution_count": 46
        }
      ]
    },
    {
      "cell_type": "code",
      "metadata": {
        "id": "EHK0S7KYOaUG",
        "colab_type": "code",
        "colab": {
          "base_uri": "https://localhost:8080/",
          "height": 34
        },
        "outputId": "5184a96d-1efe-4dad-de65-a0d862fb0469"
      },
      "source": [
        "prediction.shape"
      ],
      "execution_count": null,
      "outputs": [
        {
          "output_type": "execute_result",
          "data": {
            "text/plain": [
              "(2246, 46)"
            ]
          },
          "metadata": {
            "tags": []
          },
          "execution_count": 37
        }
      ]
    },
    {
      "cell_type": "code",
      "metadata": {
        "id": "mSCFTDReOiYp",
        "colab_type": "code",
        "colab": {
          "base_uri": "https://localhost:8080/",
          "height": 34
        },
        "outputId": "a693b0af-a270-49f4-a842-86790a22e18a"
      },
      "source": [
        "prediction[0].sum()"
      ],
      "execution_count": null,
      "outputs": [
        {
          "output_type": "execute_result",
          "data": {
            "text/plain": [
              "0.99999994"
            ]
          },
          "metadata": {
            "tags": []
          },
          "execution_count": 47
        }
      ]
    },
    {
      "cell_type": "code",
      "metadata": {
        "id": "1rBC54ISOqpy",
        "colab_type": "code",
        "colab": {}
      },
      "source": [
        ""
      ],
      "execution_count": null,
      "outputs": []
    }
  ]
}